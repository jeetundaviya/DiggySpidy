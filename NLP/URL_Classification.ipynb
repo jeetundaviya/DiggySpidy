{
 "cells": [
  {
   "cell_type": "code",
   "execution_count": 2,
   "metadata": {},
   "outputs": [],
   "source": [
    "import pandas as pd"
   ]
  },
  {
   "cell_type": "code",
   "execution_count": 108,
   "metadata": {},
   "outputs": [],
   "source": [
    "df = pd.read_csv('website_classification.csv')\n",
    "orignal_df = df"
   ]
  },
  {
   "cell_type": "code",
   "execution_count": 109,
   "metadata": {},
   "outputs": [
    {
     "data": {
      "text/plain": [
       "Index(['id', 'website', 'cleaned_text', 'category'], dtype='object')"
      ]
     },
     "execution_count": 109,
     "metadata": {},
     "output_type": "execute_result"
    }
   ],
   "source": [
    "df.columns"
   ]
  },
  {
   "cell_type": "code",
   "execution_count": 110,
   "metadata": {},
   "outputs": [
    {
     "data": {
      "text/plain": [
       "Education                          114\n",
       "Business/Corporate                 109\n",
       "Travel                             107\n",
       "Streaming Services                 105\n",
       "Sports                             104\n",
       "E-Commerce                         102\n",
       "Games                               98\n",
       "News                                96\n",
       "Health and Fitness                  96\n",
       "Photography                         93\n",
       "Computers and Technology            93\n",
       "Food                                92\n",
       "Law and Government                  84\n",
       "Social Networking and Messaging     83\n",
       "Forums                              16\n",
       "Adult                               16\n",
       "Name: category, dtype: int64"
      ]
     },
     "execution_count": 110,
     "metadata": {},
     "output_type": "execute_result"
    }
   ],
   "source": [
    "df['category'].value_counts()"
   ]
  },
  {
   "cell_type": "code",
   "execution_count": 111,
   "metadata": {},
   "outputs": [
    {
     "name": "stdout",
     "output_type": "stream",
     "text": [
      "--------------[Travel]-------------\n",
      "--------------[Social Networking and Messaging]-------------\n",
      "--------------[News]-------------\n",
      "--------------[Streaming Services]-------------\n",
      "--------------[Sports]-------------\n",
      "--------------[Photography]-------------\n",
      "--------------[Law and Government]-------------\n",
      "--------------[Health and Fitness]-------------\n",
      "--------------[Games]-------------\n",
      "--------------[E-Commerce]-------------\n",
      "--------------[Forums]-------------\n",
      "--------------[Food]-------------\n",
      "--------------[Education]-------------\n",
      "--------------[Computers and Technology]-------------\n",
      "--------------[Business/Corporate]-------------\n",
      "--------------[Adult]-------------\n"
     ]
    },
    {
     "name": "stderr",
     "output_type": "stream",
     "text": [
      "/tmp/ipykernel_9807/2320338022.py:2: FutureWarning: The default dtype for empty Series will be 'object' instead of 'float64' in a future version. Specify a dtype explicitly to silence this warning.\n",
      "  X_train=X_test=y_train=y_test=pd.Series()\n"
     ]
    }
   ],
   "source": [
    "from sklearn.model_selection import train_test_split\n",
    "X_train=X_test=y_train=y_test=pd.Series()\n",
    "\n",
    "for lable in df['category'].unique():\n",
    "    print(f'--------------[{lable}]-------------')\n",
    "    temp_df=df[df['category'] == lable].loc[:,['category','cleaned_text']]\n",
    "    t_X_train, t_X_test, t_y_train, t_y_test = train_test_split(temp_df['cleaned_text'], temp_df['category'], test_size=0.33, random_state=42)\n",
    "    X_train =  pd.concat([X_train,t_X_train])\n",
    "    X_test =  pd.concat([X_test,t_X_test])\n",
    "    y_train =  pd.concat([y_train,t_y_train])\n",
    "    y_test =  pd.concat([y_test,t_y_test])\n",
    "    \n",
    "\n",
    "    "
   ]
  },
  {
   "cell_type": "code",
   "execution_count": 112,
   "metadata": {},
   "outputs": [
    {
     "data": {
      "text/plain": [
       "472"
      ]
     },
     "execution_count": 112,
     "metadata": {},
     "output_type": "execute_result"
    }
   ],
   "source": [
    "X_test.count()\n",
    "y_test.count()"
   ]
  },
  {
   "cell_type": "code",
   "execution_count": 113,
   "metadata": {},
   "outputs": [],
   "source": [
    "from sklearn.feature_extraction.text import CountVectorizer,TfidfTransformer\n",
    "from sklearn.linear_model import SGDClassifier\n",
    "from sklearn.pipeline import Pipeline\n",
    "from sklearn.metrics import accuracy_score, confusion_matrix,classification_report"
   ]
  },
  {
   "cell_type": "code",
   "execution_count": 114,
   "metadata": {},
   "outputs": [],
   "source": [
    "sgd = Pipeline([('vect', CountVectorizer()),\n",
    "                ('tfidf', TfidfTransformer()),\n",
    "                ('clf', SGDClassifier(loss='hinge', penalty='l2',alpha=1e-3, random_state=42, max_iter=5, tol=None)),\n",
    "               ])\n",
    "\n",
    "sgd.fit(X_train, y_train)\n",
    "\n",
    "y_pred = sgd.predict(X_test)\n"
   ]
  },
  {
   "cell_type": "code",
   "execution_count": 115,
   "metadata": {},
   "outputs": [
    {
     "name": "stdout",
     "output_type": "stream",
     "text": [
      "accuracy 0.923728813559322\n",
      "Confusion Matrix :- \n",
      "\n",
      "[[ 5  0  0  0  0  0  0  0  1  0  0  0  0  0  0  0]\n",
      " [ 0 31  2  0  0  0  0  0  0  1  0  0  0  0  0  2]\n",
      " [ 0  1 27  0  3  0  0  0  0  0  0  0  0  0  0  0]\n",
      " [ 0  0  0 33  0  0  0  1  0  0  0  0  0  0  0  0]\n",
      " [ 0  0  0  0 37  0  0  0  1  0  0  0  0  0  0  0]\n",
      " [ 0  0  0  0  0 31  0  0  0  0  0  0  0  0  0  0]\n",
      " [ 0  1  0  0  0  0  0  1  0  0  1  0  1  1  1  0]\n",
      " [ 0  0  1  0  0  0  0 32  0  0  0  0  0  0  0  0]\n",
      " [ 0  0  0  0  1  0  0  0 30  0  0  0  0  1  0  0]\n",
      " [ 0  0  0  0  0  0  0  0  0 28  0  0  0  0  0  0]\n",
      " [ 0  0  0  0  1  0  0  0  0  0 29  0  0  1  1  0]\n",
      " [ 0  0  0  0  1  0  0  0  0  0  0 30  0  0  0  0]\n",
      " [ 0  1  3  0  0  1  0  0  0  0  0  3 20  0  0  0]\n",
      " [ 0  0  0  0  0  0  0  0  0  0  1  0  0 34  0  0]\n",
      " [ 0  0  0  0  1  0  0  0  0  0  0  0  0  0 34  0]\n",
      " [ 0  0  0  0  0  0  0  0  0  0  1  0  0  0  0 35]]\n",
      "                                 precision    recall  f1-score   support\n",
      "\n",
      "                         Travel       1.00      0.83      0.91         6\n",
      "Social Networking and Messaging       0.91      0.86      0.89        36\n",
      "                           News       0.82      0.87      0.84        31\n",
      "             Streaming Services       1.00      0.97      0.99        34\n",
      "                         Sports       0.84      0.97      0.90        38\n",
      "                    Photography       0.97      1.00      0.98        31\n",
      "             Law and Government       0.00      0.00      0.00         6\n",
      "             Health and Fitness       0.94      0.97      0.96        33\n",
      "                          Games       0.94      0.94      0.94        32\n",
      "                     E-Commerce       0.97      1.00      0.98        28\n",
      "                         Forums       0.91      0.91      0.91        32\n",
      "                           Food       0.91      0.97      0.94        31\n",
      "                      Education       0.95      0.71      0.82        28\n",
      "       Computers and Technology       0.92      0.97      0.94        35\n",
      "             Business/Corporate       0.94      0.97      0.96        35\n",
      "                          Adult       0.95      0.97      0.96        36\n",
      "\n",
      "                       accuracy                           0.92       472\n",
      "                      macro avg       0.87      0.87      0.87       472\n",
      "                   weighted avg       0.91      0.92      0.92       472\n",
      "\n"
     ]
    },
    {
     "name": "stderr",
     "output_type": "stream",
     "text": [
      "/home/jeetundaviya/.local/lib/python3.8/site-packages/sklearn/metrics/_classification.py:1318: UndefinedMetricWarning: Precision and F-score are ill-defined and being set to 0.0 in labels with no predicted samples. Use `zero_division` parameter to control this behavior.\n",
      "  _warn_prf(average, modifier, msg_start, len(result))\n",
      "/home/jeetundaviya/.local/lib/python3.8/site-packages/sklearn/metrics/_classification.py:1318: UndefinedMetricWarning: Precision and F-score are ill-defined and being set to 0.0 in labels with no predicted samples. Use `zero_division` parameter to control this behavior.\n",
      "  _warn_prf(average, modifier, msg_start, len(result))\n",
      "/home/jeetundaviya/.local/lib/python3.8/site-packages/sklearn/metrics/_classification.py:1318: UndefinedMetricWarning: Precision and F-score are ill-defined and being set to 0.0 in labels with no predicted samples. Use `zero_division` parameter to control this behavior.\n",
      "  _warn_prf(average, modifier, msg_start, len(result))\n"
     ]
    }
   ],
   "source": [
    "print('accuracy %s' % accuracy_score(y_pred, y_test))\n",
    "\n",
    "print('Confusion Matrix :- \\n')\n",
    "\n",
    "print(confusion_matrix(y_test,y_pred))\n",
    "\n",
    "print(classification_report(y_test, y_pred,target_names=y_test.unique()))"
   ]
  },
  {
   "cell_type": "code",
   "execution_count": 164,
   "metadata": {},
   "outputs": [],
   "source": [
    "import requests as req\n",
    "from fake_useragent import UserAgent\n",
    "from bs4 import BeautifulSoup\n",
    "def predict_website(URL):\n",
    "    if 'http' not in URL:\n",
    "        URL = 'http://' + URL\n",
    "    # proxies={'http':'socks5h://localhost:9050','https':'socks5h://localhost:9050'}\n",
    "    res = req.get(URL,headers={'User-Agent':UserAgent().random})\n",
    "    if res.status_code == 200:\n",
    "        soup = BeautifulSoup(res.content)\n",
    "        print(f'{URL} is of {sgd.predict([soup.get_text()])[0]} category.')\n",
    "    else:\n",
    "        print(f'Unable to get response for {URL}({res.status_code})')"
   ]
  },
  {
   "cell_type": "code",
   "execution_count": 165,
   "metadata": {},
   "outputs": [
    {
     "name": "stdout",
     "output_type": "stream",
     "text": [
      "https://www.khanacademy.org/ is of Education category.\n"
     ]
    }
   ],
   "source": [
    "URL = 'https://www.khanacademy.org/'\n",
    "predict_website(URL)"
   ]
  },
  {
   "cell_type": "code",
   "execution_count": null,
   "metadata": {},
   "outputs": [],
   "source": []
  }
 ],
 "metadata": {
  "interpreter": {
   "hash": "2be7929a1a3208c101f07aab68569a1f5d571198cec815bda14ede71adbd859f"
  },
  "kernelspec": {
   "display_name": "Python 3.8.10 ('e': venv)",
   "language": "python",
   "name": "python3"
  },
  "language_info": {
   "codemirror_mode": {
    "name": "ipython",
    "version": 3
   },
   "file_extension": ".py",
   "mimetype": "text/x-python",
   "name": "python",
   "nbconvert_exporter": "python",
   "pygments_lexer": "ipython3",
   "version": "3.8.10"
  },
  "orig_nbformat": 4
 },
 "nbformat": 4,
 "nbformat_minor": 2
}
