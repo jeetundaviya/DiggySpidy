{
 "cells": [
  {
   "cell_type": "code",
   "execution_count": 1,
   "metadata": {},
   "outputs": [],
   "source": [
    "import pandas as pd"
   ]
  },
  {
   "cell_type": "code",
   "execution_count": 2,
   "metadata": {},
   "outputs": [
    {
     "data": {
      "text/html": [
       "<div>\n",
       "<style scoped>\n",
       "    .dataframe tbody tr th:only-of-type {\n",
       "        vertical-align: middle;\n",
       "    }\n",
       "\n",
       "    .dataframe tbody tr th {\n",
       "        vertical-align: top;\n",
       "    }\n",
       "\n",
       "    .dataframe thead th {\n",
       "        text-align: right;\n",
       "    }\n",
       "</style>\n",
       "<table border=\"1\" class=\"dataframe\">\n",
       "  <thead>\n",
       "    <tr style=\"text-align: right;\">\n",
       "      <th></th>\n",
       "      <th>id</th>\n",
       "      <th>website</th>\n",
       "      <th>cleaned_text</th>\n",
       "      <th>category</th>\n",
       "    </tr>\n",
       "  </thead>\n",
       "  <tbody>\n",
       "    <tr>\n",
       "      <th>0</th>\n",
       "      <td>0</td>\n",
       "      <td>https://www.booking.com/index.html?aid=1743217</td>\n",
       "      <td>official site good hotel accommodation big sav...</td>\n",
       "      <td>Travel</td>\n",
       "    </tr>\n",
       "    <tr>\n",
       "      <th>1</th>\n",
       "      <td>1</td>\n",
       "      <td>https://travelsites.com/expedia/</td>\n",
       "      <td>expedia hotel book sites like use vacation wor...</td>\n",
       "      <td>Travel</td>\n",
       "    </tr>\n",
       "    <tr>\n",
       "      <th>2</th>\n",
       "      <td>2</td>\n",
       "      <td>https://travelsites.com/tripadvisor/</td>\n",
       "      <td>tripadvisor hotel book sites like previously d...</td>\n",
       "      <td>Travel</td>\n",
       "    </tr>\n",
       "    <tr>\n",
       "      <th>3</th>\n",
       "      <td>3</td>\n",
       "      <td>https://www.momondo.in/?ispredir=true</td>\n",
       "      <td>cheap flights search compare flights momondo f...</td>\n",
       "      <td>Travel</td>\n",
       "    </tr>\n",
       "    <tr>\n",
       "      <th>4</th>\n",
       "      <td>4</td>\n",
       "      <td>https://www.ebookers.com/?AFFCID=EBOOKERS-UK.n...</td>\n",
       "      <td>bot create free account create free account si...</td>\n",
       "      <td>Travel</td>\n",
       "    </tr>\n",
       "  </tbody>\n",
       "</table>\n",
       "</div>"
      ],
      "text/plain": [
       "   id                                            website  \\\n",
       "0   0     https://www.booking.com/index.html?aid=1743217   \n",
       "1   1                   https://travelsites.com/expedia/   \n",
       "2   2               https://travelsites.com/tripadvisor/   \n",
       "3   3              https://www.momondo.in/?ispredir=true   \n",
       "4   4  https://www.ebookers.com/?AFFCID=EBOOKERS-UK.n...   \n",
       "\n",
       "                                        cleaned_text category  \n",
       "0  official site good hotel accommodation big sav...   Travel  \n",
       "1  expedia hotel book sites like use vacation wor...   Travel  \n",
       "2  tripadvisor hotel book sites like previously d...   Travel  \n",
       "3  cheap flights search compare flights momondo f...   Travel  \n",
       "4  bot create free account create free account si...   Travel  "
      ]
     },
     "execution_count": 2,
     "metadata": {},
     "output_type": "execute_result"
    }
   ],
   "source": [
    "df = pd.read_csv('website_classification.csv')\n",
    "orignal_df = df\n",
    "\n",
    "orignal_df.head()"
   ]
  },
  {
   "cell_type": "code",
   "execution_count": 3,
   "metadata": {},
   "outputs": [
    {
     "data": {
      "text/plain": [
       "Index(['id', 'website', 'cleaned_text', 'category'], dtype='object')"
      ]
     },
     "execution_count": 3,
     "metadata": {},
     "output_type": "execute_result"
    }
   ],
   "source": [
    "df.columns"
   ]
  },
  {
   "cell_type": "code",
   "execution_count": 4,
   "metadata": {},
   "outputs": [
    {
     "data": {
      "text/plain": [
       "Education                          114\n",
       "Business/Corporate                 109\n",
       "Travel                             107\n",
       "Streaming Services                 105\n",
       "Sports                             104\n",
       "E-Commerce                         102\n",
       "Games                               98\n",
       "News                                96\n",
       "Health and Fitness                  96\n",
       "Photography                         93\n",
       "Computers and Technology            93\n",
       "Food                                92\n",
       "Law and Government                  84\n",
       "Social Networking and Messaging     83\n",
       "Forums                              16\n",
       "Adult                               16\n",
       "Name: category, dtype: int64"
      ]
     },
     "execution_count": 4,
     "metadata": {},
     "output_type": "execute_result"
    }
   ],
   "source": [
    "df['category'].value_counts()"
   ]
  },
  {
   "cell_type": "code",
   "execution_count": 5,
   "metadata": {},
   "outputs": [
    {
     "name": "stdout",
     "output_type": "stream",
     "text": [
      "--------------[Travel]-------------\n",
      "--------------[Social Networking and Messaging]-------------\n",
      "--------------[News]-------------\n",
      "--------------[Streaming Services]-------------\n",
      "--------------[Sports]-------------\n",
      "--------------[Photography]-------------\n",
      "--------------[Law and Government]-------------\n",
      "--------------[Health and Fitness]-------------\n",
      "--------------[Games]-------------\n",
      "--------------[E-Commerce]-------------\n",
      "--------------[Forums]-------------\n",
      "--------------[Food]-------------\n",
      "--------------[Education]-------------\n",
      "--------------[Computers and Technology]-------------\n",
      "--------------[Business/Corporate]-------------\n",
      "--------------[Adult]-------------\n"
     ]
    },
    {
     "name": "stderr",
     "output_type": "stream",
     "text": [
      "/tmp/ipykernel_30713/2320338022.py:2: FutureWarning: The default dtype for empty Series will be 'object' instead of 'float64' in a future version. Specify a dtype explicitly to silence this warning.\n",
      "  X_train=X_test=y_train=y_test=pd.Series()\n"
     ]
    }
   ],
   "source": [
    "from sklearn.model_selection import train_test_split\n",
    "X_train=X_test=y_train=y_test=pd.Series()\n",
    "\n",
    "for lable in df['category'].unique():\n",
    "    print(f'--------------[{lable}]-------------')\n",
    "    temp_df=df[df['category'] == lable].loc[:,['category','cleaned_text']]\n",
    "    t_X_train, t_X_test, t_y_train, t_y_test = train_test_split(temp_df['cleaned_text'], temp_df['category'], test_size=0.33, random_state=42)\n",
    "    X_train =  pd.concat([X_train,t_X_train])\n",
    "    X_test =  pd.concat([X_test,t_X_test])\n",
    "    y_train =  pd.concat([y_train,t_y_train])\n",
    "    y_test =  pd.concat([y_test,t_y_test])\n",
    "    \n",
    "\n",
    "    "
   ]
  },
  {
   "cell_type": "code",
   "execution_count": 6,
   "metadata": {},
   "outputs": [
    {
     "data": {
      "text/plain": [
       "472"
      ]
     },
     "execution_count": 6,
     "metadata": {},
     "output_type": "execute_result"
    }
   ],
   "source": [
    "X_test.count()\n",
    "y_test.count()"
   ]
  },
  {
   "cell_type": "code",
   "execution_count": 7,
   "metadata": {},
   "outputs": [],
   "source": [
    "from sklearn.feature_extraction.text import CountVectorizer,TfidfTransformer\n",
    "from sklearn.linear_model import SGDClassifier\n",
    "from sklearn.pipeline import Pipeline\n",
    "from sklearn.metrics import accuracy_score, confusion_matrix,classification_report"
   ]
  },
  {
   "cell_type": "code",
   "execution_count": 8,
   "metadata": {},
   "outputs": [],
   "source": [
    "sgd = Pipeline([('vect', CountVectorizer()),\n",
    "                ('tfidf', TfidfTransformer()),\n",
    "                ('clf', SGDClassifier(loss='hinge', penalty='l2',alpha=1e-3, random_state=42, max_iter=5, tol=None)),\n",
    "               ])\n",
    "\n",
    "sgd.fit(X_train, y_train)\n",
    "\n",
    "y_pred = sgd.predict(X_test)\n"
   ]
  },
  {
   "cell_type": "code",
   "execution_count": 9,
   "metadata": {},
   "outputs": [
    {
     "name": "stdout",
     "output_type": "stream",
     "text": [
      "accuracy 0.923728813559322\n",
      "Confusion Matrix :- \n",
      "\n",
      "[[ 5  0  0  0  0  0  0  0  1  0  0  0  0  0  0  0]\n",
      " [ 0 31  2  0  0  0  0  0  0  1  0  0  0  0  0  2]\n",
      " [ 0  1 27  0  3  0  0  0  0  0  0  0  0  0  0  0]\n",
      " [ 0  0  0 33  0  0  0  1  0  0  0  0  0  0  0  0]\n",
      " [ 0  0  0  0 37  0  0  0  1  0  0  0  0  0  0  0]\n",
      " [ 0  0  0  0  0 31  0  0  0  0  0  0  0  0  0  0]\n",
      " [ 0  1  0  0  0  0  0  1  0  0  1  0  1  1  1  0]\n",
      " [ 0  0  1  0  0  0  0 32  0  0  0  0  0  0  0  0]\n",
      " [ 0  0  0  0  1  0  0  0 30  0  0  0  0  1  0  0]\n",
      " [ 0  0  0  0  0  0  0  0  0 28  0  0  0  0  0  0]\n",
      " [ 0  0  0  0  1  0  0  0  0  0 29  0  0  1  1  0]\n",
      " [ 0  0  0  0  1  0  0  0  0  0  0 30  0  0  0  0]\n",
      " [ 0  1  3  0  0  1  0  0  0  0  0  3 20  0  0  0]\n",
      " [ 0  0  0  0  0  0  0  0  0  0  1  0  0 34  0  0]\n",
      " [ 0  0  0  0  1  0  0  0  0  0  0  0  0  0 34  0]\n",
      " [ 0  0  0  0  0  0  0  0  0  0  1  0  0  0  0 35]]\n",
      "                                 precision    recall  f1-score   support\n",
      "\n",
      "                         Travel       1.00      0.83      0.91         6\n",
      "Social Networking and Messaging       0.91      0.86      0.89        36\n",
      "                           News       0.82      0.87      0.84        31\n",
      "             Streaming Services       1.00      0.97      0.99        34\n",
      "                         Sports       0.84      0.97      0.90        38\n",
      "                    Photography       0.97      1.00      0.98        31\n",
      "             Law and Government       0.00      0.00      0.00         6\n",
      "             Health and Fitness       0.94      0.97      0.96        33\n",
      "                          Games       0.94      0.94      0.94        32\n",
      "                     E-Commerce       0.97      1.00      0.98        28\n",
      "                         Forums       0.91      0.91      0.91        32\n",
      "                           Food       0.91      0.97      0.94        31\n",
      "                      Education       0.95      0.71      0.82        28\n",
      "       Computers and Technology       0.92      0.97      0.94        35\n",
      "             Business/Corporate       0.94      0.97      0.96        35\n",
      "                          Adult       0.95      0.97      0.96        36\n",
      "\n",
      "                       accuracy                           0.92       472\n",
      "                      macro avg       0.87      0.87      0.87       472\n",
      "                   weighted avg       0.91      0.92      0.92       472\n",
      "\n"
     ]
    },
    {
     "name": "stderr",
     "output_type": "stream",
     "text": [
      "/home/jeetundaviya/.local/lib/python3.8/site-packages/sklearn/metrics/_classification.py:1318: UndefinedMetricWarning: Precision and F-score are ill-defined and being set to 0.0 in labels with no predicted samples. Use `zero_division` parameter to control this behavior.\n",
      "  _warn_prf(average, modifier, msg_start, len(result))\n",
      "/home/jeetundaviya/.local/lib/python3.8/site-packages/sklearn/metrics/_classification.py:1318: UndefinedMetricWarning: Precision and F-score are ill-defined and being set to 0.0 in labels with no predicted samples. Use `zero_division` parameter to control this behavior.\n",
      "  _warn_prf(average, modifier, msg_start, len(result))\n",
      "/home/jeetundaviya/.local/lib/python3.8/site-packages/sklearn/metrics/_classification.py:1318: UndefinedMetricWarning: Precision and F-score are ill-defined and being set to 0.0 in labels with no predicted samples. Use `zero_division` parameter to control this behavior.\n",
      "  _warn_prf(average, modifier, msg_start, len(result))\n"
     ]
    }
   ],
   "source": [
    "print('accuracy %s' % accuracy_score(y_pred, y_test))\n",
    "\n",
    "print('Confusion Matrix :- \\n')\n",
    "\n",
    "print(confusion_matrix(y_test,y_pred))\n",
    "\n",
    "print(classification_report(y_test, y_pred,target_names=y_test.unique()))"
   ]
  },
  {
   "cell_type": "code",
   "execution_count": 10,
   "metadata": {},
   "outputs": [],
   "source": [
    "import requests as req\n",
    "from fake_useragent import UserAgent\n",
    "from bs4 import BeautifulSoup\n",
    "def predict_website(URL):\n",
    "    if 'http' not in URL:\n",
    "        URL = 'http://' + URL\n",
    "    # proxies={'http':'socks5h://localhost:9050','https':'socks5h://localhost:9050'}\n",
    "    res = req.get(URL,headers={'User-Agent':UserAgent().random})\n",
    "    if res.status_code == 200:\n",
    "        soup = BeautifulSoup(res.content)\n",
    "        print(f'{URL} is of {sgd.predict([soup.get_text()])[0]} category.')\n",
    "    else:\n",
    "        print(f'Unable to get response for {URL}({res.status_code})')"
   ]
  },
  {
   "cell_type": "code",
   "execution_count": 11,
   "metadata": {},
   "outputs": [
    {
     "name": "stdout",
     "output_type": "stream",
     "text": [
      "https://www.charusat.ac.in is of Education category.\n"
     ]
    }
   ],
   "source": [
    "URL = 'https://www.charusat.ac.in'\n",
    "predict_website(URL)"
   ]
  },
  {
   "cell_type": "code",
   "execution_count": 12,
   "metadata": {},
   "outputs": [
    {
     "data": {
      "text/plain": [
       "['website_category_detection_model.pkl']"
      ]
     },
     "execution_count": 12,
     "metadata": {},
     "output_type": "execute_result"
    }
   ],
   "source": [
    "import joblib\n",
    "joblib.dump(sgd, 'website_category_detection_model.pkl', compress=9)"
   ]
  }
 ],
 "metadata": {
  "interpreter": {
   "hash": "2be7929a1a3208c101f07aab68569a1f5d571198cec815bda14ede71adbd859f"
  },
  "kernelspec": {
   "display_name": "Python 3.8.10 ('e': venv)",
   "language": "python",
   "name": "python3"
  },
  "language_info": {
   "codemirror_mode": {
    "name": "ipython",
    "version": 3
   },
   "file_extension": ".py",
   "mimetype": "text/x-python",
   "name": "python",
   "nbconvert_exporter": "python",
   "pygments_lexer": "ipython3",
   "version": "3.8.10"
  },
  "orig_nbformat": 4
 },
 "nbformat": 4,
 "nbformat_minor": 2
}
