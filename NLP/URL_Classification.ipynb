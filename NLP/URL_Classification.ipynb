{
 "cells": [
  {
   "cell_type": "code",
   "execution_count": 44,
   "metadata": {},
   "outputs": [],
   "source": [
    "import pandas as pd"
   ]
  },
  {
   "cell_type": "code",
   "execution_count": 45,
   "metadata": {},
   "outputs": [
    {
     "data": {
      "text/html": [
       "<div>\n",
       "<style scoped>\n",
       "    .dataframe tbody tr th:only-of-type {\n",
       "        vertical-align: middle;\n",
       "    }\n",
       "\n",
       "    .dataframe tbody tr th {\n",
       "        vertical-align: top;\n",
       "    }\n",
       "\n",
       "    .dataframe thead th {\n",
       "        text-align: right;\n",
       "    }\n",
       "</style>\n",
       "<table border=\"1\" class=\"dataframe\">\n",
       "  <thead>\n",
       "    <tr style=\"text-align: right;\">\n",
       "      <th></th>\n",
       "      <th>id</th>\n",
       "      <th>website</th>\n",
       "      <th>cleaned_text</th>\n",
       "      <th>category</th>\n",
       "    </tr>\n",
       "  </thead>\n",
       "  <tbody>\n",
       "    <tr>\n",
       "      <th>0</th>\n",
       "      <td>0</td>\n",
       "      <td>https://www.booking.com/index.html?aid=1743217</td>\n",
       "      <td>official site good hotel accommodation big sav...</td>\n",
       "      <td>Travel</td>\n",
       "    </tr>\n",
       "    <tr>\n",
       "      <th>1</th>\n",
       "      <td>1</td>\n",
       "      <td>https://travelsites.com/expedia/</td>\n",
       "      <td>expedia hotel book sites like use vacation wor...</td>\n",
       "      <td>Travel</td>\n",
       "    </tr>\n",
       "    <tr>\n",
       "      <th>2</th>\n",
       "      <td>2</td>\n",
       "      <td>https://travelsites.com/tripadvisor/</td>\n",
       "      <td>tripadvisor hotel book sites like previously d...</td>\n",
       "      <td>Travel</td>\n",
       "    </tr>\n",
       "    <tr>\n",
       "      <th>3</th>\n",
       "      <td>3</td>\n",
       "      <td>https://www.momondo.in/?ispredir=true</td>\n",
       "      <td>cheap flights search compare flights momondo f...</td>\n",
       "      <td>Travel</td>\n",
       "    </tr>\n",
       "    <tr>\n",
       "      <th>4</th>\n",
       "      <td>4</td>\n",
       "      <td>https://www.ebookers.com/?AFFCID=EBOOKERS-UK.n...</td>\n",
       "      <td>bot create free account create free account si...</td>\n",
       "      <td>Travel</td>\n",
       "    </tr>\n",
       "  </tbody>\n",
       "</table>\n",
       "</div>"
      ],
      "text/plain": [
       "   id                                            website  \\\n",
       "0   0     https://www.booking.com/index.html?aid=1743217   \n",
       "1   1                   https://travelsites.com/expedia/   \n",
       "2   2               https://travelsites.com/tripadvisor/   \n",
       "3   3              https://www.momondo.in/?ispredir=true   \n",
       "4   4  https://www.ebookers.com/?AFFCID=EBOOKERS-UK.n...   \n",
       "\n",
       "                                        cleaned_text category  \n",
       "0  official site good hotel accommodation big sav...   Travel  \n",
       "1  expedia hotel book sites like use vacation wor...   Travel  \n",
       "2  tripadvisor hotel book sites like previously d...   Travel  \n",
       "3  cheap flights search compare flights momondo f...   Travel  \n",
       "4  bot create free account create free account si...   Travel  "
      ]
     },
     "execution_count": 45,
     "metadata": {},
     "output_type": "execute_result"
    }
   ],
   "source": [
    "df = pd.read_csv('website_classification.csv')\n",
    "\n",
    "orignal_df = df\n",
    "\n",
    "orignal_df.head()"
   ]
  },
  {
   "cell_type": "code",
   "execution_count": 46,
   "metadata": {},
   "outputs": [
    {
     "data": {
      "text/plain": [
       "Index(['id', 'website', 'cleaned_text', 'category'], dtype='object')"
      ]
     },
     "execution_count": 46,
     "metadata": {},
     "output_type": "execute_result"
    }
   ],
   "source": [
    "df.columns"
   ]
  },
  {
   "cell_type": "code",
   "execution_count": 47,
   "metadata": {},
   "outputs": [
    {
     "data": {
      "text/plain": [
       "Education                          114\n",
       "Business/Corporate                 109\n",
       "Travel                             107\n",
       "Streaming Services                 105\n",
       "Sports                             104\n",
       "E-Commerce                         102\n",
       "Games                               98\n",
       "News                                96\n",
       "Health and Fitness                  96\n",
       "Photography                         93\n",
       "Computers and Technology            93\n",
       "Food                                92\n",
       "Law and Government                  84\n",
       "Social Networking and Messaging     83\n",
       "Forums                              16\n",
       "Adult                               16\n",
       "Name: category, dtype: int64"
      ]
     },
     "execution_count": 47,
     "metadata": {},
     "output_type": "execute_result"
    }
   ],
   "source": [
    "df['category'].value_counts()"
   ]
  },
  {
   "cell_type": "code",
   "execution_count": 48,
   "metadata": {},
   "outputs": [
    {
     "name": "stdout",
     "output_type": "stream",
     "text": [
      "--------------[Travel]-------------\n",
      "--------------[Social Networking and Messaging]-------------\n",
      "--------------[News]-------------\n",
      "--------------[Streaming Services]-------------\n",
      "--------------[Sports]-------------\n",
      "--------------[Photography]-------------\n",
      "--------------[Law and Government]-------------\n",
      "--------------[Health and Fitness]-------------\n",
      "--------------[Games]-------------\n",
      "--------------[E-Commerce]-------------\n",
      "--------------[Forums]-------------\n",
      "--------------[Food]-------------\n",
      "--------------[Education]-------------\n",
      "--------------[Computers and Technology]-------------\n",
      "--------------[Business/Corporate]-------------\n",
      "--------------[Adult]-------------\n"
     ]
    },
    {
     "name": "stderr",
     "output_type": "stream",
     "text": [
      "/tmp/ipykernel_4332/1715155244.py:2: FutureWarning: The default dtype for empty Series will be 'object' instead of 'float64' in a future version. Specify a dtype explicitly to silence this warning.\n",
      "  X_train=X_test=y_train=y_test=pd.Series()\n"
     ]
    }
   ],
   "source": [
    "from sklearn.model_selection import train_test_split\n",
    "X_train=X_test=y_train=y_test=pd.Series()\n",
    "\n",
    "for lable in df['category'].unique():\n",
    "    print(f'--------------[{lable}]-------------')\n",
    "    temp_df=df[df['category'] == lable].loc[:,['category','cleaned_text']]\n",
    "    t_X_train, t_X_test, t_y_train, t_y_test = train_test_split(temp_df['cleaned_text'], temp_df['category'], test_size=0.02, random_state=42)\n",
    "    X_train =  pd.concat([X_train,t_X_train])\n",
    "    X_test =  pd.concat([X_test,t_X_test])\n",
    "    y_train =  pd.concat([y_train,t_y_train])\n",
    "    y_test =  pd.concat([y_test,t_y_test])\n",
    "    "
   ]
  },
  {
   "cell_type": "code",
   "execution_count": 49,
   "metadata": {},
   "outputs": [],
   "source": [
    "# X_test.count()\n",
    "# y_test.count()"
   ]
  },
  {
   "cell_type": "markdown",
   "metadata": {},
   "source": [
    "## SVM Model"
   ]
  },
  {
   "cell_type": "code",
   "execution_count": 50,
   "metadata": {},
   "outputs": [],
   "source": [
    "from sklearn.feature_extraction.text import CountVectorizer,TfidfTransformer\n",
    "from sklearn.linear_model import SGDClassifier\n",
    "from sklearn.pipeline import Pipeline\n",
    "from sklearn.metrics import accuracy_score, confusion_matrix,classification_report"
   ]
  },
  {
   "cell_type": "code",
   "execution_count": 51,
   "metadata": {},
   "outputs": [],
   "source": [
    "sgd = Pipeline([('vect', CountVectorizer()),\n",
    "                ('tfidf', TfidfTransformer()),\n",
    "                ('clf', SGDClassifier()),\n",
    "               ])\n",
    "\n",
    "# sgd.fit(df['cleaned_text'], df['category']) # Using full dataset for getting good accuracy.\n",
    "\n",
    "sgd.fit(X_train, y_train) # Using full dataset for getting good accuracy.\n",
    "\n",
    "y_pred = sgd.predict(X_test)\n"
   ]
  },
  {
   "cell_type": "code",
   "execution_count": 52,
   "metadata": {},
   "outputs": [
    {
     "name": "stdout",
     "output_type": "stream",
     "text": [
      "accuracy 0.9444444444444444\n",
      "                                 precision    recall  f1-score   support\n",
      "\n",
      "                         Travel       1.00      1.00      1.00         1\n",
      "Social Networking and Messaging       1.00      1.00      1.00         3\n",
      "                           News       1.00      1.00      1.00         2\n",
      "             Streaming Services       1.00      1.00      1.00         3\n",
      "                         Sports       1.00      1.00      1.00         3\n",
      "                    Photography       1.00      1.00      1.00         2\n",
      "             Law and Government       0.00      0.00      0.00         1\n",
      "             Health and Fitness       1.00      1.00      1.00         2\n",
      "                          Games       1.00      1.00      1.00         2\n",
      "                     E-Commerce       1.00      1.00      1.00         2\n",
      "                         Forums       1.00      1.00      1.00         2\n",
      "                           Food       0.67      1.00      0.80         2\n",
      "                      Education       0.50      0.50      0.50         2\n",
      "       Computers and Technology       1.00      1.00      1.00         3\n",
      "             Business/Corporate       1.00      1.00      1.00         3\n",
      "                          Adult       1.00      1.00      1.00         3\n",
      "\n",
      "                       accuracy                           0.94        36\n",
      "                      macro avg       0.89      0.91      0.89        36\n",
      "                   weighted avg       0.93      0.94      0.93        36\n",
      "\n"
     ]
    },
    {
     "name": "stderr",
     "output_type": "stream",
     "text": [
      "/home/reddot/Desktop/My WorkSpace/DiggySpidy/env/lib/python3.9/site-packages/sklearn/metrics/_classification.py:1318: UndefinedMetricWarning: Precision and F-score are ill-defined and being set to 0.0 in labels with no predicted samples. Use `zero_division` parameter to control this behavior.\n",
      "  _warn_prf(average, modifier, msg_start, len(result))\n",
      "/home/reddot/Desktop/My WorkSpace/DiggySpidy/env/lib/python3.9/site-packages/sklearn/metrics/_classification.py:1318: UndefinedMetricWarning: Precision and F-score are ill-defined and being set to 0.0 in labels with no predicted samples. Use `zero_division` parameter to control this behavior.\n",
      "  _warn_prf(average, modifier, msg_start, len(result))\n",
      "/home/reddot/Desktop/My WorkSpace/DiggySpidy/env/lib/python3.9/site-packages/sklearn/metrics/_classification.py:1318: UndefinedMetricWarning: Precision and F-score are ill-defined and being set to 0.0 in labels with no predicted samples. Use `zero_division` parameter to control this behavior.\n",
      "  _warn_prf(average, modifier, msg_start, len(result))\n"
     ]
    }
   ],
   "source": [
    "print('accuracy %s' % accuracy_score(y_pred, y_test))\n",
    "\n",
    "# print('Confusion Matrix :- \\n')\n",
    "\n",
    "# print(confusion_matrix(y_test,y_pred))\n",
    "\n",
    "print(classification_report(y_test, y_pred,target_names=y_test.unique()))"
   ]
  },
  {
   "cell_type": "code",
   "execution_count": 53,
   "metadata": {},
   "outputs": [],
   "source": [
    "import requests as req\n",
    "from bs4 import BeautifulSoup\n",
    "def predict_website(URL):\n",
    "    if 'http' not in URL:\n",
    "        URL = 'http://' + URL\n",
    "    # proxies={'http':'socks5h://localhost:9050','https':'socks5h://localhost:9050'}\n",
    "    res = req.get(URL)\n",
    "    if res.status_code == 200:\n",
    "        soup = BeautifulSoup(res.content)\n",
    "        print(f'{URL} is of {sgd.predict([soup.get_text()])[0]} category.')\n",
    "    else:\n",
    "        print(f'Unable to get response for {URL}({res.status_code})')"
   ]
  },
  {
   "cell_type": "code",
   "execution_count": 54,
   "metadata": {},
   "outputs": [
    {
     "name": "stdout",
     "output_type": "stream",
     "text": [
      "https://techcrunch.com/2022/03/28/your-chance-to-save-300-on-passes-to-tc-sessions-mobility-2022-ends-friday/ is of Business/Corporate category.\n"
     ]
    }
   ],
   "source": [
    "URL = 'https://techcrunch.com/2022/03/28/your-chance-to-save-300-on-passes-to-tc-sessions-mobility-2022-ends-friday/'\n",
    "predict_website(URL)"
   ]
  },
  {
   "cell_type": "code",
   "execution_count": 57,
   "metadata": {},
   "outputs": [
    {
     "data": {
      "text/plain": [
       "array(['Education'], dtype='<U31')"
      ]
     },
     "execution_count": 57,
     "metadata": {},
     "output_type": "execute_result"
    }
   ],
   "source": [
    "import joblib\n",
    "joblib.dump(sgd, 'website_category_detection_model.pkl', compress=9)\n",
    "\n",
    "\n",
    "joblib.load('website_category_detection_model.pkl').predict(['CHARUSAT is the best private university in India. Charusat is awarded as A grade by AICTC in its first round.'])"
   ]
  },
  {
   "cell_type": "code",
   "execution_count": null,
   "metadata": {},
   "outputs": [],
   "source": []
  }
 ],
 "metadata": {
  "interpreter": {
   "hash": "2be7929a1a3208c101f07aab68569a1f5d571198cec815bda14ede71adbd859f"
  },
  "kernelspec": {
   "display_name": "Python 3.8.10 ('e': venv)",
   "language": "python",
   "name": "python3"
  },
  "language_info": {
   "codemirror_mode": {
    "name": "ipython",
    "version": 3
   },
   "file_extension": ".py",
   "mimetype": "text/x-python",
   "name": "python",
   "nbconvert_exporter": "python",
   "pygments_lexer": "ipython3",
   "version": "3.9.11"
  },
  "orig_nbformat": 4
 },
 "nbformat": 4,
 "nbformat_minor": 2
}
